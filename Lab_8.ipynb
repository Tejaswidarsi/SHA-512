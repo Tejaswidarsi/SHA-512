{
  "nbformat": 4,
  "nbformat_minor": 0,
  "metadata": {
    "colab": {
      "provenance": [],
      "authorship_tag": "ABX9TyPS0PXp/lw0B8szJENFzS/n",
      "include_colab_link": true
    },
    "kernelspec": {
      "name": "python3",
      "display_name": "Python 3"
    },
    "language_info": {
      "name": "python"
    }
  },
  "cells": [
    {
      "cell_type": "markdown",
      "metadata": {
        "id": "view-in-github",
        "colab_type": "text"
      },
      "source": [
        "<a href=\"https://colab.research.google.com/github/Tejaswidarsi/SHA-512/blob/main/Lab_8.ipynb\" target=\"_parent\"><img src=\"https://colab.research.google.com/assets/colab-badge.svg\" alt=\"Open In Colab\"/></a>"
      ]
    },
    {
      "cell_type": "markdown",
      "source": [
        "1) Write a program to generate Hash code for a given text using SHA 512"
      ],
      "metadata": {
        "id": "1KOKoWZtW_VH"
      }
    },
    {
      "cell_type": "code",
      "execution_count": null,
      "metadata": {
        "colab": {
          "base_uri": "https://localhost:8080/"
        },
        "id": "zKnzplmJWvqX",
        "outputId": "86f2e401-a999-4dd9-d52c-6ce37316fcf2"
      },
      "outputs": [
        {
          "output_type": "stream",
          "name": "stdout",
          "text": [
            "Enter the text: Hello\n",
            "SHA-512 Hash: 3615f80c9d293ed7402687f94b22d58e529b8cc7916f8fac7fddf7fbd5af4cf777d3d795a7a00a16bf7e7f3fb9561ee9baae480da9fe7a18769e71886b03f315\n"
          ]
        }
      ],
      "source": [
        "import hashlib\n",
        "\n",
        "def generate_sha512_hash(text):\n",
        "    sha512_hash = hashlib.sha512(text.encode()).hexdigest()\n",
        "    return sha512_hash\n",
        "\n",
        "text = input(\"Enter the text: \")\n",
        "print(\"SHA-512 Hash:\", generate_sha512_hash(text))\n"
      ]
    },
    {
      "cell_type": "markdown",
      "source": [
        "2) Write a program to send a message ensuring confidentiality and integrity\n",
        "Hint for 2:\n",
        "i) perform diffie hellman exchange (from previous lab) to generate a session key<br>\n",
        "ii) Compute Hash code of the message text<br>\n",
        "iii) use AES to encrypt the (text + hash code)<br>\n",
        "iv) encrypt the (message + Hash Code)<br>\n",
        "v) send it to client/server<br>\n",
        "vi) decrypt the message<br>\n",
        "vii) check the integrity.<br>"
      ],
      "metadata": {
        "id": "YcQKhySZYfOX"
      }
    },
    {
      "cell_type": "code",
      "source": [
        "import hashlib\n",
        "from cryptography.hazmat.primitives.asymmetric import ec\n",
        "from cryptography.hazmat.primitives.ciphers import Cipher, algorithms, modes\n",
        "from cryptography.hazmat.primitives import padding\n",
        "from cryptography.hazmat.backends import default_backend\n",
        "\n",
        "private_A = ec.generate_private_key(ec.SECP256R1())\n",
        "private_B = ec.generate_private_key(ec.SECP256R1())\n",
        "\n",
        "public_A = private_A.public_key()\n",
        "public_B = private_B.public_key()\n",
        "\n",
        "\n",
        "shared_secret_A = private_A.exchange(ec.ECDH(), public_B)\n",
        "shared_secret_B = private_B.exchange(ec.ECDH(), public_A)\n",
        "\n",
        "assert shared_secret_A == shared_secret_B, \"Key exchange failed!\"\n",
        "aes_key = shared_secret_A[:16]\n",
        "\n",
        "\n",
        "def compute_hash(msg):\n",
        "    return hashlib.sha512(msg.encode()).hexdigest()\n",
        "\n",
        "def encrypt_message(msg, key):\n",
        "    msg_hash = compute_hash(msg)\n",
        "    combined_data = (msg + msg_hash).encode()\n",
        "\n",
        "\n",
        "    padder = padding.PKCS7(algorithms.AES.block_size).padder()\n",
        "    padded_data = padder.update(combined_data) + padder.finalize()\n",
        "\n",
        "    cipher = Cipher(algorithms.AES(key), modes.ECB(), backend=default_backend())\n",
        "    encryptor = cipher.encryptor()\n",
        "\n",
        "    ciphertext = encryptor.update(padded_data) + encryptor.finalize()\n",
        "    return ciphertext\n",
        "\n",
        "def decrypt_message(ciphertext, key):\n",
        "    cipher = Cipher(algorithms.AES(key), modes.ECB(), backend=default_backend())\n",
        "    decryptor = cipher.decryptor()\n",
        "\n",
        "    decrypted_data = decryptor.update(ciphertext) + decryptor.finalize()\n",
        "\n",
        "    unpadder = padding.PKCS7(algorithms.AES.block_size).unpadder()\n",
        "    unpadded_data = unpadder.update(decrypted_data) + unpadder.finalize()\n",
        "\n",
        "    message = unpadded_data[:-128].decode().strip()\n",
        "    received_hash = unpadded_data[-128:].decode().strip()\n",
        "\n",
        "    return message, \"Integrity Verified!\" if compute_hash(message) == received_hash else \"Integrity Check Failed!\"\n",
        "\n",
        "\n",
        "message = \"Cryptography!\"\n",
        "ciphertext = encrypt_message(message, aes_key)\n",
        "\n",
        "print(\"\\nCiphertext (Confidentiality Ensured):\", ciphertext.hex())\n",
        "\n",
        "\n",
        "decrypted_msg, status = decrypt_message(ciphertext, aes_key)\n",
        "\n",
        "print(\"\\nDecrypted Message:\", decrypted_msg)\n",
        "print(\"Integrity Status:\", status)\n"
      ],
      "metadata": {
        "colab": {
          "base_uri": "https://localhost:8080/"
        },
        "id": "8fZvcuC_Ys9F",
        "outputId": "b42f3067-9852-47e6-b8f9-24c616c5b856"
      },
      "execution_count": null,
      "outputs": [
        {
          "output_type": "stream",
          "name": "stdout",
          "text": [
            "\n",
            "Ciphertext (Confidentiality Ensured): 44e0e113a164febb2dce785328469bc16f6f4899411deb81a8ef4f716c5d5e44139e950741cbd2a8e9d331c6adfeea24260e3bf0e1ebbaf717216bc3522468a1716aa72e27abc31e9cbafa972d516f89af27e29f4d733a848f96e6bb47dd5b00ceb0c76728fa2bcc8030ac8dda0634e346961a1579a26cd797a09c441609bc32a6b8cc9e70349615d1fa50128f69b1c0\n",
            "\n",
            "Decrypted Message: Cryptography!\n",
            "Integrity Status: Integrity Verified!\n"
          ]
        }
      ]
    }
  ]
}